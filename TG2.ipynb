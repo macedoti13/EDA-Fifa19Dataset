{
 "cells": [
  {
   "cell_type": "markdown",
   "metadata": {},
   "source": [
    "# [Prof. Dalvan Griebler](mailto:dalvan.griebler@pucrs.br)\n",
    "\n",
    "## Programação Orientada a Dados (POD) - Turma 10 (POD_98H04-06)\n",
    "\n",
    "**Atualizado**: 21/11/2021\n",
    "\n",
    "**Descrição**: Trabalho em Grupo: Manipulação, Análise e Visualização Vetorial e Tabular de Dados\n",
    "\n",
    "\n",
    "**Copyright &copy;**: Este documento está sob a licensa da Criative Commons [BY-NC-ND 4.0](https://creativecommons.org/licenses/by-nc-nd/4.0/legalcode)"
   ]
  },
  {
   "cell_type": "markdown",
   "metadata": {},
   "source": [
    "## Trabalho realizado por:"
   ]
  },
  {
   "cell_type": "markdown",
   "metadata": {},
   "source": [
    "## Thiago Macedo e Vitor Pires"
   ]
  },
  {
   "cell_type": "markdown",
   "metadata": {},
   "source": [
    "# Bibliotecas Autorizadas\n",
    "\n",
    "Não importe outras bibliotecas além destas, pois não estão autorizadas para o uso."
   ]
  },
  {
   "cell_type": "code",
   "execution_count": 1,
   "metadata": {},
   "outputs": [],
   "source": [
    "import numpy as np\n",
    "import pandas as pd\n",
    "from matplotlib import pyplot as plt\n",
    "from PIL import Image"
   ]
  },
  {
   "cell_type": "markdown",
   "metadata": {},
   "source": [
    "# Manipulação Vetorial\n",
    "\n",
    "Obs: não será permitido o uso de laços nesta parte do trabalho sobre manipulação vetorial."
   ]
  },
  {
   "cell_type": "markdown",
   "metadata": {},
   "source": [
    "## 1. Crie um array 2D `shape(10,10)` com os seguintes valores.\n",
    "\n",
    "```bash\n",
    "[[-4 -4  0 -4 -4 -4  0 -4 -4 -4]\n",
    " [-4 -4 -4 -4 -4 -4 -4 -4 -4 -4]\n",
    " [ 0 -4 -4 -4  0 -4 -4 -4  0 -4]\n",
    " [-4 -4 -4 -4 -4 -4 -4 -4 -4 -4]\n",
    " [-4 -4  0 -4 -4 -4  0 -4 -4 -4]\n",
    " [-4 -4 -4 -4 -4 -4 -4 -4 -4 -4]\n",
    " [ 0 -4 -4 -4  0 -4 -4 -4  0 -4]\n",
    " [-4 -4 -4 -4 -4 -4 -4 -4 -4 -4]\n",
    " [-4 -4  0 -4 -4 -4  0 -4 -4 -4]\n",
    " [-4 -4 -4 -4 -4 -4 -4 -4 -4 -4]]\n",
    " ```"
   ]
  },
  {
   "cell_type": "code",
   "execution_count": 2,
   "metadata": {},
   "outputs": [
    {
     "name": "stdout",
     "output_type": "stream",
     "text": [
      "[[-4 -4  0 -4 -4 -4  0 -4 -4 -4]\n",
      " [-4 -4 -4 -4 -4 -4 -4 -4 -4 -4]\n",
      " [ 0 -4 -4 -4  0 -4 -4 -4  0 -4]\n",
      " [-4 -4 -4 -4 -4 -4 -4 -4 -4 -4]\n",
      " [-4 -4  0 -4 -4 -4  0 -4 -4 -4]\n",
      " [-4 -4 -4 -4 -4 -4 -4 -4 -4 -4]\n",
      " [ 0 -4 -4 -4  0 -4 -4 -4  0 -4]\n",
      " [-4 -4 -4 -4 -4 -4 -4 -4 -4 -4]\n",
      " [-4 -4  0 -4 -4 -4  0 -4 -4 -4]\n",
      " [-4 -4 -4 -4 -4 -4 -4 -4 -4 -4]]\n"
     ]
    }
   ],
   "source": [
    "a = np.full((10,10),-4, dtype='int64')\n",
    "a[np.ix_([2,6],[0,4,8])] = 0\n",
    "a[np.ix_([0,4,8],[2,6])] = 0\n",
    "print(a)"
   ]
  },
  {
   "cell_type": "markdown",
   "metadata": {},
   "source": [
    "## 2. Dado os valores `x`, `y1`, `y2` e `y3`, reproduza o seguinte gráfico.\n",
    "```python\n",
    "np.random.seed(0)\n",
    "x = np.arange(10)\n",
    "y1 = np.array([1.4, 3.2, 2, 4.2, 6.8, 8.7, 9.2, 9, 9.8, 10])\n",
    "y2 = np.array([0, 1, 2, 3, 4, 5, 6, 7, 8, 9])\n",
    "y3 = np.array([1, 1.2, 1.3, 1.4, 1.5, 3, 3, 3, 2, 1])\n",
    "```\n",
    "**Resultado Esperado:**\n",
    "\n",
    "![](dados/fig-tg2-ex2.png)"
   ]
  },
  {
   "cell_type": "code",
   "execution_count": 3,
   "metadata": {},
   "outputs": [
    {
     "data": {
      "image/png": "[encoded data removed]",
      "text/plain": [
       "<Figure size 432x288 with 1 Axes>"
      ]
     },
     "metadata": {
      "needs_background": "light"
     },
     "output_type": "display_data"
    }
   ],
   "source": [
    "np.random.seed(0)\n",
    "x = np.arange(10)\n",
    "y1 = np.array([1.4, 3.2, 2, 4.2, 6.8, 8.7, 9.2, 9, 9.8, 10])\n",
    "y2 = np.array([0, 1, 2, 3, 4, 5, 6, 7, 8, 9])\n",
    "y3 = np.array([1, 1.2, 1.3, 1.4, 1.5, 3, 3, 3, 2, 1])\n",
    "\n",
    "fig, ax = plt.subplots()\n",
    "\n",
    "ax.plot(x, y1, color='orange', marker='^', label='ideal')\n",
    "ax.plot(x, y2, color='blue', marker='o', label='melhor')\n",
    "ax.plot(x, y3, color='gray', linestyle=':', label='pior')\n",
    "\n",
    "ax.set_ylabel('Desempenho')\n",
    "ax.set_xlabel('Configurações')\n",
    "ax.set_title('Resultados')\n",
    "\n",
    "ax.grid(True)\n",
    "ax.legend()\n",
    "\n",
    "plt.show()"
   ]
  },
  {
   "cell_type": "markdown",
   "metadata": {},
   "source": [
    "## 3. Dado as funções `sigmoid` e `relu`, apresente em um gráfico o intervalo de `[-6, 6]` com espaçamento de `0.4` entre os elementos para o eixo `_x_`.\n",
    "```python\n",
    "def sigmoid(x):\n",
    "    return 1 / (1 + np.exp(-x))\n",
    "\n",
    "def relu(x):\n",
    "    return np.maximum(0, x)\n",
    "```\n",
    "\n",
    "\n",
    "**Resultado Esperado:**\n",
    "\n",
    "![](dados/fig-tg2-ex3.png)"
   ]
  },
  {
   "cell_type": "code",
   "execution_count": 50,
   "metadata": {},
   "outputs": [
    {
     "data": {
      "image/png": "[encoded data removed]",
      "text/plain": [
       "<Figure size 432x288 with 1 Axes>"
      ]
     },
     "metadata": {
      "needs_background": "light"
     },
     "output_type": "display_data"
    }
   ],
   "source": [
    "def sigmoid(x):\n",
    "    return 1 / (1 + np.exp(-x))\n",
    "\n",
    "def relu(x):\n",
    "    return np.maximum(0, x)\n",
    "\n",
    "fig, ax = plt.subplots()\n",
    "\n",
    "ax.plot(sigmoid(x), label='sigmoid')\n",
    "ax.plot(relu(x), label='relu')\n",
    "\n",
    "ax.legend()\n",
    "\n",
    "plt.show()"
   ]
  },
  {
   "cell_type": "markdown",
   "metadata": {},
   "source": [
    "## 4. Dado essa [Imagem](dados/dog.png), faça:\n",
    "- Carregue a imagem em um `np.array`\n",
    "- Crie uma figura com 3 `Axes` (uma linha e três colunas)\n",
    "- `Axes` (1, 1): visualize a imagem original\n",
    "- `Axes` (1, 2): visualize a imagem com um flip horizontal\n",
    "- `Axes` (1, 3): visualize a imagem com um flip vertical\n",
    "\n",
    "_Observação: utilize somente idexação e fatiamento_\n",
    "\n",
    "\n",
    "**Resultado Esperado:**\n",
    "\n",
    "![](dados/fig-tg2-ex4.png)"
   ]
  },
  {
   "cell_type": "code",
   "execution_count": 111,
   "metadata": {},
   "outputs": [
    {
     "data": {
      "image/png": "[encoded data removed]",
      "text/plain": [
       "<Figure size 432x288 with 3 Axes>"
      ]
     },
     "metadata": {
      "needs_background": "light"
     },
     "output_type": "display_data"
    }
   ],
   "source": [
    "img = Image.open('dados/dog.png')\n",
    "data = np.asarray(img)\n",
    "\n",
    "fig, ax = plt.subplots(1,3)\n",
    "\n",
    "# Le as imagens com os flips\n",
    "ax[0].imshow(data)              \n",
    "ax[1].imshow(np.fliplr(data))   \n",
    "ax[2].imshow(np.flipud(data))   \n",
    "\n",
    "ax[0].set_title('Original')\n",
    "ax[1].set_title('Horizontal')\n",
    "ax[2].set_title('Vertical')\n",
    "\n",
    "# remove a visibilidade dos eixos y\n",
    "ax[1].axes.get_yaxis().set_visible(False)   \n",
    "ax[2].axes.get_yaxis().set_visible(False)  \n",
    "\n",
    "plt.show()"
   ]
  },
  {
   "cell_type": "markdown",
   "metadata": {},
   "source": [
    "# Manipulação Tabular com Dataset FIFA 19\n",
    "\n",
    "OBS: Todos os gráficos gerados nesta parte precisam ter Título e identificação dos eixos. Permitam também que seja possível visualizar os dados dos eixos."
   ]
  },
  {
   "cell_type": "markdown",
   "metadata": {},
   "source": [
    "## 5. Junte as informações dos jogadores que estão distribuidas nos dois arquivos (`fifa19_info_data.csv` e `fifa19_stats_data.csv`). Após isso, corrija apenas os dados que serão usados posteriormente.\n",
    "\n",
    "Obs: não é permido o uso de laços nesta questão.\n",
    "\n",
    "_**Sugestão referente aos dados ausentes**: Para o `Dribbling` e `BallControl` preencha os dados ausentes com a média total e para os dados ausentes de `Club` apenas coloque `Sem Clube`._"
   ]
  },
  {
   "cell_type": "code",
   "execution_count": 125,
   "metadata": {},
   "outputs": [
    {
     "data": {
      "text/html": [
       "<div>\n",
       "<style scoped>\n",
       "    .dataframe tbody tr th:only-of-type {\n",
       "        vertical-align: middle;\n",
       "    }\n",
       "\n",
       "    .dataframe tbody tr th {\n",
       "        vertical-align: top;\n",
       "    }\n",
       "\n",
       "    .dataframe thead th {\n",
       "        text-align: right;\n",
       "    }\n",
       "</style>\n",
       "<table border=\"1\" class=\"dataframe\">\n",
       "  <thead>\n",
       "    <tr style=\"text-align: right;\">\n",
       "      <th></th>\n",
       "      <th>ID</th>\n",
       "      <th>Name</th>\n",
       "      <th>Club</th>\n",
       "      <th>Photo</th>\n",
       "      <th>Flag</th>\n",
       "      <th>Nationality</th>\n",
       "      <th>Club Logo</th>\n",
       "      <th>Value</th>\n",
       "      <th>International Reputation</th>\n",
       "      <th>Age</th>\n",
       "      <th>...</th>\n",
       "      <th>ShortPassing</th>\n",
       "      <th>Body Type</th>\n",
       "      <th>RDM</th>\n",
       "      <th>Agility</th>\n",
       "      <th>Jersey Number</th>\n",
       "      <th>RF</th>\n",
       "      <th>Potential</th>\n",
       "      <th>Height</th>\n",
       "      <th>BallControl</th>\n",
       "      <th>LDM</th>\n",
       "    </tr>\n",
       "  </thead>\n",
       "  <tbody>\n",
       "    <tr>\n",
       "      <th>0</th>\n",
       "      <td>158023</td>\n",
       "      <td>L. Messi</td>\n",
       "      <td>FC Barcelona</td>\n",
       "      <td>https://cdn.sofifa.org/players/4/19/158023.png</td>\n",
       "      <td>https://cdn.sofifa.org/flags/52.png</td>\n",
       "      <td>Argentina</td>\n",
       "      <td>https://cdn.sofifa.org/teams/2/light/241.png</td>\n",
       "      <td>€110.5M</td>\n",
       "      <td>5.0</td>\n",
       "      <td>31</td>\n",
       "      <td>...</td>\n",
       "      <td>90.0</td>\n",
       "      <td>Messi</td>\n",
       "      <td>61+2</td>\n",
       "      <td>91.0</td>\n",
       "      <td>10.0</td>\n",
       "      <td>93+2</td>\n",
       "      <td>94</td>\n",
       "      <td>5'7</td>\n",
       "      <td>96.0</td>\n",
       "      <td>61+2</td>\n",
       "    </tr>\n",
       "    <tr>\n",
       "      <th>1</th>\n",
       "      <td>20801</td>\n",
       "      <td>Cristiano Ronaldo</td>\n",
       "      <td>Juventus</td>\n",
       "      <td>https://cdn.sofifa.org/players/4/19/20801.png</td>\n",
       "      <td>https://cdn.sofifa.org/flags/38.png</td>\n",
       "      <td>Portugal</td>\n",
       "      <td>https://cdn.sofifa.org/teams/2/light/45.png</td>\n",
       "      <td>€77M</td>\n",
       "      <td>5.0</td>\n",
       "      <td>33</td>\n",
       "      <td>...</td>\n",
       "      <td>81.0</td>\n",
       "      <td>C. Ronaldo</td>\n",
       "      <td>61+3</td>\n",
       "      <td>87.0</td>\n",
       "      <td>7.0</td>\n",
       "      <td>90+3</td>\n",
       "      <td>94</td>\n",
       "      <td>6'2</td>\n",
       "      <td>94.0</td>\n",
       "      <td>61+3</td>\n",
       "    </tr>\n",
       "    <tr>\n",
       "      <th>2</th>\n",
       "      <td>190871</td>\n",
       "      <td>Neymar Jr</td>\n",
       "      <td>Paris Saint-Germain</td>\n",
       "      <td>https://cdn.sofifa.org/players/4/19/190871.png</td>\n",
       "      <td>https://cdn.sofifa.org/flags/54.png</td>\n",
       "      <td>Brazil</td>\n",
       "      <td>https://cdn.sofifa.org/teams/2/light/73.png</td>\n",
       "      <td>€118.5M</td>\n",
       "      <td>5.0</td>\n",
       "      <td>26</td>\n",
       "      <td>...</td>\n",
       "      <td>84.0</td>\n",
       "      <td>Neymar</td>\n",
       "      <td>60+3</td>\n",
       "      <td>96.0</td>\n",
       "      <td>10.0</td>\n",
       "      <td>89+3</td>\n",
       "      <td>93</td>\n",
       "      <td>5'9</td>\n",
       "      <td>95.0</td>\n",
       "      <td>60+3</td>\n",
       "    </tr>\n",
       "    <tr>\n",
       "      <th>3</th>\n",
       "      <td>193080</td>\n",
       "      <td>De Gea</td>\n",
       "      <td>Manchester United</td>\n",
       "      <td>https://cdn.sofifa.org/players/4/19/193080.png</td>\n",
       "      <td>https://cdn.sofifa.org/flags/45.png</td>\n",
       "      <td>Spain</td>\n",
       "      <td>https://cdn.sofifa.org/teams/2/light/11.png</td>\n",
       "      <td>€72M</td>\n",
       "      <td>4.0</td>\n",
       "      <td>27</td>\n",
       "      <td>...</td>\n",
       "      <td>50.0</td>\n",
       "      <td>Lean</td>\n",
       "      <td>NaN</td>\n",
       "      <td>60.0</td>\n",
       "      <td>1.0</td>\n",
       "      <td>NaN</td>\n",
       "      <td>93</td>\n",
       "      <td>6'4</td>\n",
       "      <td>42.0</td>\n",
       "      <td>NaN</td>\n",
       "    </tr>\n",
       "    <tr>\n",
       "      <th>4</th>\n",
       "      <td>192985</td>\n",
       "      <td>K. De Bruyne</td>\n",
       "      <td>Manchester City</td>\n",
       "      <td>https://cdn.sofifa.org/players/4/19/192985.png</td>\n",
       "      <td>https://cdn.sofifa.org/flags/7.png</td>\n",
       "      <td>Belgium</td>\n",
       "      <td>https://cdn.sofifa.org/teams/2/light/10.png</td>\n",
       "      <td>€102M</td>\n",
       "      <td>4.0</td>\n",
       "      <td>27</td>\n",
       "      <td>...</td>\n",
       "      <td>92.0</td>\n",
       "      <td>Normal</td>\n",
       "      <td>77+3</td>\n",
       "      <td>79.0</td>\n",
       "      <td>7.0</td>\n",
       "      <td>87+3</td>\n",
       "      <td>92</td>\n",
       "      <td>5'11</td>\n",
       "      <td>91.0</td>\n",
       "      <td>77+3</td>\n",
       "    </tr>\n",
       "  </tbody>\n",
       "</table>\n",
       "<p>5 rows × 88 columns</p>\n",
       "</div>"
      ],
      "text/plain": [
       "       ID               Name                 Club  \\\n",
       "0  158023           L. Messi         FC Barcelona   \n",
       "1   20801  Cristiano Ronaldo             Juventus   \n",
       "2  190871          Neymar Jr  Paris Saint-Germain   \n",
       "3  193080             De Gea    Manchester United   \n",
       "4  192985       K. De Bruyne      Manchester City   \n",
       "\n",
       "                                            Photo  \\\n",
       "0  https://cdn.sofifa.org/players/4/19/158023.png   \n",
       "1   https://cdn.sofifa.org/players/4/19/20801.png   \n",
       "2  https://cdn.sofifa.org/players/4/19/190871.png   \n",
       "3  https://cdn.sofifa.org/players/4/19/193080.png   \n",
       "4  https://cdn.sofifa.org/players/4/19/192985.png   \n",
       "\n",
       "                                  Flag Nationality  \\\n",
       "0  https://cdn.sofifa.org/flags/52.png   Argentina   \n",
       "1  https://cdn.sofifa.org/flags/38.png    Portugal   \n",
       "2  https://cdn.sofifa.org/flags/54.png      Brazil   \n",
       "3  https://cdn.sofifa.org/flags/45.png       Spain   \n",
       "4   https://cdn.sofifa.org/flags/7.png     Belgium   \n",
       "\n",
       "                                      Club Logo    Value  \\\n",
       "0  https://cdn.sofifa.org/teams/2/light/241.png  €110.5M   \n",
       "1   https://cdn.sofifa.org/teams/2/light/45.png     €77M   \n",
       "2   https://cdn.sofifa.org/teams/2/light/73.png  €118.5M   \n",
       "3   https://cdn.sofifa.org/teams/2/light/11.png     €72M   \n",
       "4   https://cdn.sofifa.org/teams/2/light/10.png    €102M   \n",
       "\n",
       "   International Reputation  Age  ... ShortPassing   Body Type   RDM  Agility  \\\n",
       "0                       5.0   31  ...         90.0       Messi  61+2     91.0   \n",
       "1                       5.0   33  ...         81.0  C. Ronaldo  61+3     87.0   \n",
       "2                       5.0   26  ...         84.0      Neymar  60+3     96.0   \n",
       "3                       4.0   27  ...         50.0        Lean   NaN     60.0   \n",
       "4                       4.0   27  ...         92.0      Normal  77+3     79.0   \n",
       "\n",
       "   Jersey Number    RF  Potential  Height BallControl   LDM  \n",
       "0           10.0  93+2         94     5'7        96.0  61+2  \n",
       "1            7.0  90+3         94     6'2        94.0  61+3  \n",
       "2           10.0  89+3         93     5'9        95.0  60+3  \n",
       "3            1.0   NaN         93     6'4        42.0   NaN  \n",
       "4            7.0  87+3         92    5'11        91.0  77+3  \n",
       "\n",
       "[5 rows x 88 columns]"
      ]
     },
     "execution_count": 125,
     "metadata": {},
     "output_type": "execute_result"
    }
   ],
   "source": [
    "df_info = pd.read_csv('dados/fifa19_info_data.csv')\n",
    "df_stats = pd.read_csv('dados/fifa19_stats_data.csv')\n",
    "df = pd.merge(df_info, df_stats, on='ID')\n",
    "df.head()"
   ]
  },
  {
   "cell_type": "code",
   "execution_count": 143,
   "metadata": {},
   "outputs": [
    {
     "data": {
      "text/plain": [
       "Dribbling      0\n",
       "BallControl    0\n",
       "Club           0\n",
       "dtype: int64"
      ]
     },
     "execution_count": 143,
     "metadata": {},
     "output_type": "execute_result"
    }
   ],
   "source": [
    "df[['Dribbling', 'BallControl','Club']].isnull().sum()"
   ]
  },
  {
   "cell_type": "markdown",
   "metadata": {},
   "source": [
    "#### Substituindo nulos que serão usados posteriormente"
   ]
  },
  {
   "cell_type": "code",
   "execution_count": 142,
   "metadata": {},
   "outputs": [
    {
     "data": {
      "text/plain": [
       "Dribbling      0\n",
       "BallControl    0\n",
       "Club           0\n",
       "dtype: int64"
      ]
     },
     "execution_count": 142,
     "metadata": {},
     "output_type": "execute_result"
    }
   ],
   "source": [
    "df['Dribbling'].fillna(df['Dribbling'].mean(), inplace=True) \n",
    "df['BallControl'].fillna(df['BallControl'].mean(), inplace=True)\n",
    "df['Club'].fillna('Sem Clube', inplace=True)\n",
    "\n",
    "df[['Dribbling','BallControl','Club']].isnull().sum()"
   ]
  },
  {
   "cell_type": "markdown",
   "metadata": {},
   "source": [
    "## 6. Calcule e mostre a média de agilidade e do valor de mercado dos jogadores das equipes de Grêmio e Internacional. \n",
    "\n",
    "Obs: não é permido o uso de laços nesta questão."
   ]
  },
  {
   "cell_type": "code",
   "execution_count": 153,
   "metadata": {},
   "outputs": [
    {
     "data": {
      "text/plain": [
       "Club\n",
       "Grêmio           65.3\n",
       "Internacional    66.6\n",
       "Name: Agility, dtype: float64"
      ]
     },
     "execution_count": 153,
     "metadata": {},
     "output_type": "execute_result"
    }
   ],
   "source": [
    "df_grenal = df[df['Club'].isin(['Internacional','Grêmio'])]\n",
    "df_grenal.groupby(['Club'])[['Agility','BallControl']].mean()\n",
    "# df_grenal.groupby(['Club'])['Agility'].mean()"
   ]
  },
  {
   "cell_type": "markdown",
   "metadata": {},
   "source": [
    "## 7. Mostre em um gráfico de barras os top 10 clubes baseado na média do controle de bola (`BallControl`) de seus jogadores.\n",
    "\n",
    "Requisito: colocar o valor com 2 casas decimais após a vírgula no topo de cada barra.\n",
    "\n",
    "\n",
    "**Resultado Esperado:**\n",
    "\n",
    "![](dados/fig-tg2-ex7.png)"
   ]
  },
  {
   "cell_type": "code",
   "execution_count": null,
   "metadata": {},
   "outputs": [],
   "source": []
  },
  {
   "cell_type": "markdown",
   "metadata": {},
   "source": [
    "## 8. Mostre em um gráfico de pizza com porcentagem dos 10 países que mais possuem jogadores no conjunto de dados.\n",
    "\n",
    "Requisito: destaque a menor fatia.\n",
    "\n",
    "**Resultado Esperado:**\n",
    "\n",
    "![](dados/fig-tg2-ex8.png)"
   ]
  },
  {
   "cell_type": "code",
   "execution_count": null,
   "metadata": {},
   "outputs": [],
   "source": []
  },
  {
   "cell_type": "markdown",
   "metadata": {},
   "source": [
    "## 9. Faça uma visualização de `Axes(2,2)` com os seguintes gráficos em ordem:\n",
    "- histograma com a idade de todos os jogadores\n",
    "- histograma com a idade dos jogadores do Real Madrid\n",
    "- histograma com a idade dos jogadores do FC Barcelona\n",
    "- Histograma com a idade dos jogadores do Paris Saint-Germain\n",
    "\n",
    "Usar o seguinte intervalo de idades para cada um dos hitogramas.\n",
    "```\n",
    "[16, 20, 24, 28, 32, 34, 38, 40, 42]\n",
    "```\n",
    "\n",
    "Obs: formate e identifique corretamente cada um dos gráficos.\n",
    "\n",
    "\n",
    "**Resultado Esperado:**\n",
    "\n",
    "![](dados/fig-tg2-ex9.png)"
   ]
  },
  {
   "cell_type": "code",
   "execution_count": null,
   "metadata": {},
   "outputs": [],
   "source": []
  },
  {
   "cell_type": "markdown",
   "metadata": {},
   "source": [
    "## 10. Encontre os 5 clubes com maior e menor potêncial médio dos jogadores. Depois, faça uma figura com dois gráficos `boxplot` do `Dribbling`, sendo um dos 5 maiores potênciais médio e outro dos 5 menores potênciais médio.\n",
    "\n",
    "**Resultado Esperado:**\n",
    "\n",
    "![](dados/fig-tg2-ex10.png)"
   ]
  },
  {
   "cell_type": "code",
   "execution_count": null,
   "metadata": {},
   "outputs": [],
   "source": []
  }
 ],
 "metadata": {
  "kernelspec": {
   "display_name": "Python 3",
   "language": "python",
   "name": "python3"
  },
  "language_info": {
   "codemirror_mode": {
    "name": "ipython",
    "version": 3
   },
   "file_extension": ".py",
   "mimetype": "text/x-python",
   "name": "python",
   "nbconvert_exporter": "python",
   "pygments_lexer": "ipython3",
   "version": "3.8.5"
  }
 },
 "nbformat": 4,
 "nbformat_minor": 5
}
