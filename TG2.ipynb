{
 "cells": [
  {
   "cell_type": "markdown",
   "metadata": {},
   "source": [
    "# [Prof. Dalvan Griebler](mailto:dalvan.griebler@pucrs.br)\n",
    "\n",
    "## Programação Orientada a Dados (POD) - Turma 10 (POD_98H04-06)\n",
    "\n",
    "**Atualizado**: 21/11/2021\n",
    "\n",
    "**Descrição**: Trabalho em Grupo: Manipulação, Análise e Visualização Vetorial e Tabular de Dados\n",
    "\n",
    "\n",
    "**Copyright &copy;**: Este documento está sob a licensa da Criative Commons [BY-NC-ND 4.0](https://creativecommons.org/licenses/by-nc-nd/4.0/legalcode)"
   ]
  },
  {
   "cell_type": "markdown",
   "metadata": {},
   "source": [
    "## Trabalho realizado por:"
   ]
  },
  {
   "cell_type": "markdown",
   "metadata": {},
   "source": [
    "## Thiago Macedo e Vitor Pires"
   ]
  },
  {
   "cell_type": "markdown",
   "metadata": {},
   "source": [
    "# Bibliotecas Autorizadas\n",
    "\n",
    "Não importe outras bibliotecas além destas, pois não estão autorizadas para o uso."
   ]
  },
  {
   "cell_type": "code",
   "execution_count": 1,
   "metadata": {},
   "outputs": [],
   "source": [
    "import numpy as np\n",
    "import pandas as pd\n",
    "from matplotlib import pyplot as plt\n",
    "from PIL import Image"
   ]
  },
  {
   "cell_type": "markdown",
   "metadata": {},
   "source": [
    "# Manipulação Vetorial\n",
    "\n",
    "Obs: não será permitido o uso de laços nesta parte do trabalho sobre manipulação vetorial."
   ]
  },
  {
   "cell_type": "markdown",
   "metadata": {},
   "source": [
    "## 1. Crie um array 2D `shape(10,10)` com os seguintes valores.\n",
    "\n",
    "```bash\n",
    "[[-4 -4  0 -4 -4 -4  0 -4 -4 -4]\n",
    " [-4 -4 -4 -4 -4 -4 -4 -4 -4 -4]\n",
    " [ 0 -4 -4 -4  0 -4 -4 -4  0 -4]\n",
    " [-4 -4 -4 -4 -4 -4 -4 -4 -4 -4]\n",
    " [-4 -4  0 -4 -4 -4  0 -4 -4 -4]\n",
    " [-4 -4 -4 -4 -4 -4 -4 -4 -4 -4]\n",
    " [ 0 -4 -4 -4  0 -4 -4 -4  0 -4]\n",
    " [-4 -4 -4 -4 -4 -4 -4 -4 -4 -4]\n",
    " [-4 -4  0 -4 -4 -4  0 -4 -4 -4]\n",
    " [-4 -4 -4 -4 -4 -4 -4 -4 -4 -4]]\n",
    " ```"
   ]
  },
  {
   "cell_type": "code",
   "execution_count": null,
   "metadata": {},
   "outputs": [],
   "source": []
  },
  {
   "cell_type": "markdown",
   "metadata": {},
   "source": [
    "## 2. Dado os valores `x`, `y1`, `y2` e `y3`, reproduza o seguinte gráfico.\n",
    "```python\n",
    "np.random.seed(0)\n",
    "x = np.arange(10)\n",
    "y1 = np.array([1.4, 3.2, 2, 4.2, 6.8, 8.7, 9.2, 9, 9.8, 10])\n",
    "y2 = np.array([0, 1, 2, 3, 4, 5, 6, 7, 8, 9])\n",
    "y3 = np.array([1, 1.2, 1.3, 1.4, 1.5, 3, 3, 3, 2, 1])\n",
    "```\n",
    "**Resultado Esperado:**\n",
    "\n",
    "![](dados/fig-tg2-ex2.png)"
   ]
  },
  {
   "cell_type": "code",
   "execution_count": null,
   "metadata": {},
   "outputs": [],
   "source": []
  },
  {
   "cell_type": "markdown",
   "metadata": {},
   "source": [
    "## 3. Dado as funções `sigmoid` e `relu`, apresente em um gráfico o intervalo de `[-6, 6]` com espaçamento de `0.4` entre os elementos para o eixo `_x_`.\n",
    "```python\n",
    "def sigmoid(x):\n",
    "    return 1 / (1 + np.exp(-x))\n",
    "\n",
    "def relu(x):\n",
    "    return np.maximum(0, x)\n",
    "```\n",
    "\n",
    "\n",
    "**Resultado Esperado:**\n",
    "\n",
    "![](dados/fig-tg2-ex3.png)"
   ]
  },
  {
   "cell_type": "code",
   "execution_count": null,
   "metadata": {},
   "outputs": [],
   "source": []
  },
  {
   "cell_type": "markdown",
   "metadata": {},
   "source": [
    "## 4. Dado essa [Imagem](dados/dog.png), faça:\n",
    "- Carregue a imagem em um `np.array`\n",
    "- Crie uma figura com 3 `Axes` (uma linha e três colunas)\n",
    "- `Axes` (1, 1): visualize a imagem original\n",
    "- `Axes` (1, 2): visualize a imagem com um flip horizontal\n",
    "- `Axes` (1, 3): visualize a imagem com um flip vertical\n",
    "\n",
    "_Observação: utilize somente idexação e fatiamento_\n",
    "\n",
    "\n",
    "**Resultado Esperado:**\n",
    "\n",
    "![](dados/fig-tg2-ex4.png)"
   ]
  },
  {
   "cell_type": "code",
   "execution_count": null,
   "metadata": {},
   "outputs": [],
   "source": []
  },
  {
   "cell_type": "markdown",
   "metadata": {},
   "source": [
    "# Manipulação Tabular com Dataset FIFA 19\n",
    "\n",
    "OBS: Todos os gráficos gerados nesta parte precisam ter Título e identificação dos eixos. Permitam também que seja possível visualizar os dados dos eixos."
   ]
  },
  {
   "cell_type": "markdown",
   "metadata": {},
   "source": [
    "## 5. Junte as informações dos jogadores que estão distribuidas nos dois arquivos (`fifa19_info_data.csv` e `fifa19_stats_data.csv`). Após isso, corrija apenas os dados que serão usados posteriormente.\n",
    "\n",
    "Obs: não é permido o uso de laços nesta questão.\n",
    "\n",
    "_**Sugestão referente aos dados ausentes**: Para o `Dribbling` e `BallControl` preencha os dados ausentes com a média total e para os dados ausentes de `Club` apenas coloque `Sem Clube`._"
   ]
  },
  {
   "cell_type": "code",
   "execution_count": null,
   "metadata": {},
   "outputs": [],
   "source": []
  },
  {
   "cell_type": "markdown",
   "metadata": {},
   "source": [
    "## 6. Calcule e mostre a média de agilidade e do valor de mercado dos jogadores das equipes de Grêmio e Internacional. \n",
    "\n",
    "Obs: não é permido o uso de laços nesta questão."
   ]
  },
  {
   "cell_type": "code",
   "execution_count": null,
   "metadata": {},
   "outputs": [],
   "source": []
  },
  {
   "cell_type": "markdown",
   "metadata": {},
   "source": [
    "## 7. Mostre em um gráfico de barras os top 10 clubes baseado na média do controle de bola (`BallControl`) de seus jogadores.\n",
    "\n",
    "Requisito: colocar o valor com 2 casas decimais após a vírgula no topo de cada barra.\n",
    "\n",
    "\n",
    "**Resultado Esperado:**\n",
    "\n",
    "![](dados/fig-tg2-ex7.png)"
   ]
  },
  {
   "cell_type": "code",
   "execution_count": null,
   "metadata": {},
   "outputs": [],
   "source": []
  },
  {
   "cell_type": "markdown",
   "metadata": {},
   "source": [
    "## 8. Mostre em um gráfico de pizza com porcentagem os 10 países que mais possuem jogadores no conjunto de dados.\n",
    "\n",
    "Requisito: destaque a menor fatia.\n",
    "\n",
    "**Resultado Esperado:**\n",
    "\n",
    "![](dados/fig-tg2-ex8.png)"
   ]
  },
  {
   "cell_type": "code",
   "execution_count": null,
   "metadata": {},
   "outputs": [],
   "source": []
  },
  {
   "cell_type": "markdown",
   "metadata": {},
   "source": [
    "## 9. Faça uma visualização de `Axes(2,2)` com os seguintes gráficos em ordem:\n",
    "- histograma com a idade de todos os jogadores\n",
    "- histograma com a idade dos jogadores do Real Madrid\n",
    "- histograma com a idade dos jogadores do FC Barcelona\n",
    "- Histograma com a idade dos jogadores do Paris Saint-Germain\n",
    "\n",
    "Usar o seguinte intervalo de idades para cada um dos hitogramas.\n",
    "```\n",
    "[16, 20, 24, 28, 32, 34, 38, 40, 42]\n",
    "```\n",
    "\n",
    "Obs: formate e identifique corretamente cada um dos gráficos.\n",
    "\n",
    "\n",
    "**Resultado Esperado:**\n",
    "\n",
    "![](dados/fig-tg2-ex9.png)"
   ]
  },
  {
   "cell_type": "code",
   "execution_count": null,
   "metadata": {},
   "outputs": [],
   "source": []
  },
  {
   "cell_type": "markdown",
   "metadata": {},
   "source": [
    "## 10. Encontre os 5 clubes com maior e menor potêncial médio dos jogadores. Depois, faça uma figura com dois gráficos `boxplot` do `Dribbling`, sendo um dos 5 maiores potênciais médio e outro dos 5 menores potênciais médio.\n",
    "\n",
    "**Resultado Esperado:**\n",
    "\n",
    "![](dados/fig-tg2-ex10.png)"
   ]
  },
  {
   "cell_type": "code",
   "execution_count": null,
   "metadata": {},
   "outputs": [],
   "source": []
  }
 ],
 "metadata": {
  "kernelspec": {
   "display_name": "Python 3",
   "language": "python",
   "name": "python3"
  },
  "language_info": {
   "codemirror_mode": {
    "name": "ipython",
    "version": 3
   },
   "file_extension": ".py",
   "mimetype": "text/x-python",
   "name": "python",
   "nbconvert_exporter": "python",
   "pygments_lexer": "ipython3",
   "version": "3.8.5"
  }
 },
 "nbformat": 4,
 "nbformat_minor": 5
}
